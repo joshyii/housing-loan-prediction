{
 "cells": [
  {
   "attachments": {},
   "cell_type": "markdown",
   "metadata": {},
   "source": [
    "# **Question 4**\n",
    "- Which attributes relate strongly to the outcome of loan status? \n",
    "- using Random Forest"
   ]
  },
  {
   "cell_type": "code",
   "execution_count": 1,
   "metadata": {},
   "outputs": [],
   "source": [
    "import numpy as np\n",
    "import pandas as pd\n",
    "import seaborn as sns\n",
    "import matplotlib.pyplot as plt\n",
    "from sklearn.preprocessing import MinMaxScaler"
   ]
  },
  {
   "cell_type": "markdown",
   "metadata": {},
   "source": [
    "## Prepare data for training and test\n",
    "\n"
   ]
  },
  {
   "cell_type": "code",
   "execution_count": 2,
   "metadata": {},
   "outputs": [],
   "source": [
    "#import X and y from data_cleaning.ipynb\n",
    "%store -r X\n",
    "%store -r y"
   ]
  },
  {
   "cell_type": "code",
   "execution_count": 3,
   "metadata": {},
   "outputs": [
    {
     "name": "stdout",
     "output_type": "stream",
     "text": [
      "     CoapplicantIncome  LoanAmount  Loan_Amount_Term  Gender_Female  \\\n",
      "479             0.2812      0.5651            0.7436              0   \n",
      "419             0.2486      0.5243            0.7436              0   \n",
      "66              0.3954      0.4660            0.3590              0   \n",
      "376             0.8763      0.4854            0.7436              0   \n",
      "29              0.3654      0.4369            0.7436              1   \n",
      "\n",
      "     Gender_Male  Married_No  Married_Yes  Dependents_0  Dependents_1  \\\n",
      "479            1           0            1             0             0   \n",
      "419            1           0            1             1             0   \n",
      "66             1           1            0             1             0   \n",
      "376            1           0            1             0             0   \n",
      "29             0           1            0             0             0   \n",
      "\n",
      "     Dependents_2  Dependents_3+  Education_Graduate  Education_Not Graduate  \\\n",
      "479             1              0                   1                       0   \n",
      "419             0              0                   1                       0   \n",
      "66              0              0                   0                       1   \n",
      "376             0              1                   1                       0   \n",
      "29              1              0                   1                       0   \n",
      "\n",
      "     Credit_History_0.0  Credit_History_1.0  Property_Area_Rural  \\\n",
      "479                   0                   1                    0   \n",
      "419                   0                   1                    0   \n",
      "66                    1                   0                    0   \n",
      "376                   0                   1                    1   \n",
      "29                    0                   1                    0   \n",
      "\n",
      "     Property_Area_Semiurban  Property_Area_Urban  \n",
      "479                        0                    1  \n",
      "419                        1                    0  \n",
      "66                         0                    1  \n",
      "376                        0                    0  \n",
      "29                         1                    0  \n",
      "479    N\n",
      "419    Y\n",
      "66     N\n",
      "376    Y\n",
      "29     Y\n",
      "Name: Loan_Status, dtype: object\n"
     ]
    }
   ],
   "source": [
    "from sklearn.model_selection import train_test_split\n",
    "X_train, X_test, y_train, y_test = train_test_split(X, y, test_size = 0.3, random_state = 42)\n",
    "print(X_train.head())\n",
    "print(y_train.head())"
   ]
  },
  {
   "cell_type": "markdown",
   "metadata": {},
   "source": [
    "# **Random Forest**"
   ]
  },
  {
   "cell_type": "code",
   "execution_count": 4,
   "metadata": {},
   "outputs": [
    {
     "name": "stdout",
     "output_type": "stream",
     "text": [
      "Index(['CoapplicantIncome', 'LoanAmount', 'Loan_Amount_Term',\n",
      "       'Credit_History_0.0', 'Credit_History_1.0'],\n",
      "      dtype='object')\n"
     ]
    }
   ],
   "source": [
    "from sklearn.ensemble import RandomForestClassifier\n",
    "from sklearn.feature_selection import SelectFromModel\n",
    "\n",
    "sel = SelectFromModel(RandomForestClassifier(n_estimators = 100))\n",
    "sel.fit(X_train, y_train)\n",
    "sel.get_support()\n",
    "selected_feat= X_train.columns[(sel.get_support())]\n",
    "len(selected_feat)\n",
    "print(selected_feat)\n"
   ]
  }
 ],
 "metadata": {
  "kernelspec": {
   "display_name": "base",
   "language": "python",
   "name": "python3"
  },
  "language_info": {
   "codemirror_mode": {
    "name": "ipython",
    "version": 3
   },
   "file_extension": ".py",
   "mimetype": "text/x-python",
   "name": "python",
   "nbconvert_exporter": "python",
   "pygments_lexer": "ipython3",
   "version": "3.7.16"
  },
  "orig_nbformat": 4
 },
 "nbformat": 4,
 "nbformat_minor": 2
}
