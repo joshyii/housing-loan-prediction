{
 "cells": [
  {
   "attachments": {},
   "cell_type": "markdown",
   "metadata": {},
   "source": [
    "# **Question 2**\n",
    "- How does k-fold cross validation affect the performance and prediction accuracy of models? \n",
    "- compare results from question 1"
   ]
  },
  {
   "attachments": {},
   "cell_type": "markdown",
   "metadata": {},
   "source": [
    "# Prepare data for training and test"
   ]
  },
  {
   "cell_type": "code",
   "execution_count": 6,
   "metadata": {},
   "outputs": [],
   "source": [
    "import numpy as np\n",
    "from sklearn.model_selection import KFold"
   ]
  },
  {
   "cell_type": "code",
   "execution_count": 7,
   "metadata": {},
   "outputs": [],
   "source": [
    "#import X and y from data_cleaning.ipynb\n",
    "%store -r X\n",
    "%store -r y\n",
    "\n",
    "# split it into 10 folds\n",
    "kfold = KFold(n_splits=10, shuffle=True, random_state=42)"
   ]
  },
  {
   "attachments": {},
   "cell_type": "markdown",
   "metadata": {},
   "source": [
    "# **Decision Tree**"
   ]
  },
  {
   "cell_type": "code",
   "execution_count": 8,
   "metadata": {},
   "outputs": [
    {
     "name": "stdout",
     "output_type": "stream",
     "text": [
      "Accuracy: 0.8168350168350169\n"
     ]
    }
   ],
   "source": [
    "from sklearn.metrics import accuracy_score\n",
    "from sklearn.tree import DecisionTreeClassifier\n",
    "\n",
    "\n",
    "scores = []\n",
    "for train_index, test_index in kfold.split(X):\n",
    "    X_train, X_test = X.iloc[train_index], X.iloc[test_index]\n",
    "    y_train, y_test = y.iloc[train_index], y.iloc[test_index]\n",
    "\n",
    "    dt = DecisionTreeClassifier(criterion='entropy', max_depth=3)\n",
    "    dt.fit(X_train, y_train)\n",
    "\n",
    "    y_pred = dt.predict(X_test)\n",
    "    score = accuracy_score(y_test, y_pred)\n",
    "    scores.append(score)\n",
    "\n",
    "print(\"Accuracy:\", np.mean(scores))\n"
   ]
  },
  {
   "attachments": {},
   "cell_type": "markdown",
   "metadata": {},
   "source": [
    "# **Naive Bayes**"
   ]
  },
  {
   "cell_type": "code",
   "execution_count": 9,
   "metadata": {},
   "outputs": [
    {
     "name": "stdout",
     "output_type": "stream",
     "text": [
      "Accuracy: 0.8153061224489797\n"
     ]
    }
   ],
   "source": [
    "from sklearn.naive_bayes import GaussianNB\n",
    "from sklearn.model_selection import cross_val_score\n",
    "\n",
    "NB = GaussianNB()\n",
    "\n",
    "# uisng k-fold cross-validation\n",
    "scores = cross_val_score(NB, X_train, y_train, cv=10)\n",
    "\n",
    "# Print the average accuracy across all folds\n",
    "print(\"Accuracy:\", scores.mean())\n"
   ]
  },
  {
   "cell_type": "markdown",
   "metadata": {},
   "source": [
    "# **Neural Network**"
   ]
  },
  {
   "cell_type": "code",
   "execution_count": 10,
   "metadata": {},
   "outputs": [
    {
     "name": "stdout",
     "output_type": "stream",
     "text": [
      "Fold loss:  0.4195346534252167\n",
      "Fold accuracy:  0.8571428656578064\n",
      "Fold loss:  0.7789111733436584\n",
      "Fold accuracy:  0.6530612111091614\n",
      "Fold loss:  0.375527560710907\n",
      "Fold accuracy:  0.8775510191917419\n",
      "Fold loss:  0.3404538929462433\n",
      "Fold accuracy:  0.8367347121238708\n",
      "Fold loss:  0.43653568625450134\n",
      "Fold accuracy:  0.8163265585899353\n",
      "Fold loss:  0.27418971061706543\n",
      "Fold accuracy:  0.8979591727256775\n",
      "Fold loss:  0.48807355761528015\n",
      "Fold accuracy:  0.8163265585899353\n",
      "Fold loss:  0.37543734908103943\n",
      "Fold accuracy:  0.8125\n",
      "Fold loss:  0.3453301191329956\n",
      "Fold accuracy:  0.8541666865348816\n",
      "Fold loss:  0.258598655462265\n",
      "Fold accuracy:  0.875\n",
      "2/2 [==============================] - 0s 3ms/step - loss: 0.7618 - accuracy: 0.8333\n",
      "Test loss:  0.7618392705917358\n",
      "Test accuracy:  0.8333333134651184\n"
     ]
    }
   ],
   "source": [
    "from keras.models import Sequential\n",
    "from keras.layers import Dense\n",
    "\n",
    "model = Sequential()\n",
    "model.add(Dense(20, input_dim = 18, activation = \"relu\"))\n",
    "model.add(Dense(16, activation = \"relu\"))\n",
    "model.add(Dense(1, activation = 'sigmoid'))\n",
    "\n",
    "y_train = y_train.replace({'N':0, 'Y':1})\n",
    "y_test = y_test.replace({'N':0, 'Y':1})\n",
    "model.compile(loss='binary_crossentropy', optimizer='adam', metrics=['accuracy'])\n",
    "\n",
    "for train, val in kfold.split(X_train, y_train):\n",
    "    model.fit(X_train.iloc[train], y_train.iloc[train], epochs = 100, batch_size = 10, verbose=0)\n",
    "  # Evaluate the model on the validation data for this fold\n",
    "    score = model.evaluate(X_train.iloc[val], y_train.iloc[val], verbose=0)\n",
    "    print('Fold loss: ', score[0])\n",
    "    print('Fold accuracy: ', score[1])\n",
    "  \n",
    "#Evaluae the model on the test data\n",
    "score = model.evaluate(X_test, y_test)\n",
    "print('Test loss: ', score[0])\n",
    "print('Test accuracy: ', score[1])\n"
   ]
  }
 ],
 "metadata": {
  "kernelspec": {
   "display_name": "Python 3 (ipykernel)",
   "language": "python",
   "name": "python3"
  },
  "language_info": {
   "codemirror_mode": {
    "name": "ipython",
    "version": 3
   },
   "file_extension": ".py",
   "mimetype": "text/x-python",
   "name": "python",
   "nbconvert_exporter": "python",
   "pygments_lexer": "ipython3",
   "version": "3.7.16"
  }
 },
 "nbformat": 4,
 "nbformat_minor": 2
}
